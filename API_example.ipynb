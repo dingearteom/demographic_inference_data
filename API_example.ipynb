{
 "cells": [
  {
   "cell_type": "markdown",
   "metadata": {},
   "source": [
    "# Example of API usage for optimization\n",
    "\n",
    "To install package run the following from base directory:\n",
    "\n",
    "```console\n",
    "$ python3 setup.py install\n",
    "```\n",
    "\n",
    "To import package:"
   ]
  },
  {
   "cell_type": "code",
   "execution_count": 1,
   "metadata": {},
   "outputs": [],
   "source": [
    "import deminf_data"
   ]
  },
  {
   "cell_type": "markdown",
   "metadata": {},
   "source": [
    "## Get objective function for name of the data set\n",
    "\n",
    "It is possible to get objective function from name of the data set. The call of this function will take values of parameters and return value of log-likelihood (negative or positive) for the data set with given name. It could be used for optimizations benchmarks.\n",
    "\n",
    "(The third load could take a while)"
   ]
  },
  {
   "cell_type": "code",
   "execution_count": 2,
   "metadata": {},
   "outputs": [],
   "source": [
    "objective_1 = deminf_data.Objective.from_name(\"1_Bot_4_Sim\")"
   ]
  },
  {
   "cell_type": "code",
   "execution_count": 3,
   "metadata": {},
   "outputs": [],
   "source": [
    "objective_2 = deminf_data.Objective.from_name(\"2_ExpDivNoMig_5_Sim\", negate=True)"
   ]
  },
  {
   "cell_type": "code",
   "execution_count": 4,
   "metadata": {},
   "outputs": [],
   "source": [
    "objective_3 = deminf_data.Objective.from_name(\"4_DivMig_11_Sim\", negate=True, type_of_transform=\"logarithm\")"
   ]
  },
  {
   "cell_type": "markdown",
   "metadata": {},
   "source": [
    "## Number of parameters and their bounds\n",
    "\n",
    "Objectives provide information about parameters. Note that bounds are in transformed units already (for more information see nect section)."
   ]
  },
  {
   "cell_type": "code",
   "execution_count": 5,
   "metadata": {},
   "outputs": [],
   "source": [
    "def get_information_from_objective(objective):\n",
    "    print(\"Objective with name:\", objective.name)\n",
    "    print(\"Number of parameters:\", objective.n_params)\n",
    "    print(\"Lower bounds of parameters:\", objective.lower_bound)\n",
    "    print(\"Upper bounds of parameters:\", objective.upper_bound)"
   ]
  },
  {
   "cell_type": "code",
   "execution_count": 6,
   "metadata": {},
   "outputs": [
    {
     "name": "stdout",
     "output_type": "stream",
     "text": [
      "Objective with name: 1_Bot_4_Sim\n",
      "Number of parameters: 4\n",
      "Lower bounds of parameters: [0.001 0.001 0.    0.   ]\n",
      "Upper bounds of parameters: [100 100   5   5]\n"
     ]
    }
   ],
   "source": [
    "get_information_from_objective(objective_1)"
   ]
  },
  {
   "cell_type": "code",
   "execution_count": 7,
   "metadata": {},
   "outputs": [
    {
     "name": "stdout",
     "output_type": "stream",
     "text": [
      "Objective with name: 2_ExpDivNoMig_5_Sim\n",
      "Number of parameters: 5\n",
      "Lower bounds of parameters: [1.e-02 1.e-02 1.e-02 1.e-15 1.e-15]\n",
      "Upper bounds of parameters: [100 100 100   5   5]\n"
     ]
    }
   ],
   "source": [
    "get_information_from_objective(objective_2)"
   ]
  },
  {
   "cell_type": "code",
   "execution_count": 8,
   "metadata": {},
   "outputs": [
    {
     "name": "stdout",
     "output_type": "stream",
     "text": [
      "Objective with name: 4_DivMig_11_Sim\n",
      "Number of parameters: 11\n",
      "Lower bounds of parameters: [ -4.60517019  -4.60517019  -4.60517019  -4.60517019  -4.60517019\n",
      "  -4.60517019 -34.53877639 -34.53877639 -34.53877639 -34.53877639\n",
      " -34.53877639]\n",
      "Upper bounds of parameters: [4.60517019 4.60517019 4.60517019 4.60517019 4.60517019 4.60517019\n",
      " 2.30258509 2.30258509 1.60943791 1.60943791 1.60943791]\n"
     ]
    }
   ],
   "source": [
    "get_information_from_objective(objective_3)"
   ]
  },
  {
   "cell_type": "markdown",
   "metadata": {},
   "source": [
    "## Transformation of parameter space\n",
    "Parameter space could be transformed for objective. For example if `type_of_transform=\"logarithm\"` then logarithm is applied. It means nothing to one who uses objective as bounds are already transformed. The other type of transform is `type_of_transform=\"suctom_logarithm\"` which apply logarithm only on non-migration parameters.\n",
    "\n",
    "To understand better let us see the example:"
   ]
  },
  {
   "cell_type": "code",
   "execution_count": 9,
   "metadata": {},
   "outputs": [],
   "source": [
    "objective_1 = deminf_data.Objective.from_name(\"2_ExpDivNoMig_5_Sim\") # without any transform\n",
    "objective_2 = deminf_data.Objective.from_name(\"2_ExpDivNoMig_5_Sim\", type_of_transform=\"logarithm\")"
   ]
  },
  {
   "cell_type": "markdown",
   "metadata": {},
   "source": [
    "We could observe that bounds of `objective_1` are logarithm of bounds of `objective_2`:"
   ]
  },
  {
   "cell_type": "code",
   "execution_count": 10,
   "metadata": {},
   "outputs": [
    {
     "name": "stdout",
     "output_type": "stream",
     "text": [
      "Objective with name: 2_ExpDivNoMig_5_Sim\n",
      "Number of parameters: 5\n",
      "Lower bounds of parameters: [1.e-02 1.e-02 1.e-02 1.e-15 1.e-15]\n",
      "Upper bounds of parameters: [100 100 100   5   5]\n",
      "Objective with name: 2_ExpDivNoMig_5_Sim\n",
      "Number of parameters: 5\n",
      "Lower bounds of parameters: [ -4.60517019  -4.60517019  -4.60517019 -34.53877639 -34.53877639]\n",
      "Upper bounds of parameters: [4.60517019 4.60517019 4.60517019 1.60943791 1.60943791]\n"
     ]
    }
   ],
   "source": [
    "get_information_from_objective(objective_1)\n",
    "get_information_from_objective(objective_2)"
   ]
  },
  {
   "cell_type": "markdown",
   "metadata": {},
   "source": [
    "Then we could take random parameters for `objective_1` and logarithm from this parameters will give the same value of objective for `objective_2`:"
   ]
  },
  {
   "cell_type": "code",
   "execution_count": 11,
   "metadata": {},
   "outputs": [
    {
     "name": "stdout",
     "output_type": "stream",
     "text": [
      "Value of objective_1 on non-trasnfromed params: -408503.7009439486\n",
      "Value of objective_2 on transformed params: -408503.7009439487\n",
      "Values are closed: True\n"
     ]
    }
   ],
   "source": [
    "import numpy as np\n",
    "params = np.random.uniform(objective_1.lower_bound, objective_1.upper_bound)\n",
    "obj_1 = objective_1(params)\n",
    "print(\"Value of objective_1 on non-trasnfromed params:\", obj_1)\n",
    "transformed_params = np.log(params)\n",
    "obj_2 = objective_2(transformed_params)\n",
    "print(\"Value of objective_2 on transformed params:\", obj_2)\n",
    "print(\"Values are closed:\", np.allclose(obj_1, obj_2))"
   ]
  },
  {
   "cell_type": "markdown",
   "metadata": {},
   "source": [
    "## Optimization\n",
    "\n",
    "Here is example of usage in optimization with scipy (L-BFGS-B). As it is minimization we need to negate our funtion."
   ]
  },
  {
   "cell_type": "code",
   "execution_count": 12,
   "metadata": {},
   "outputs": [
    {
     "name": "stdout",
     "output_type": "stream",
     "text": [
      "1072.7961158459184 [ 5.14578337e-01 -7.71867505e-01  6.10014528e-05  1.83004358e-04]\n",
      "574.1414181134596 [ 0.71206506 -0.83812539  0.04186397 -0.32872396]\n",
      "471.2172996666159 [ 1.00135671 -1.05948898  0.1628776  -0.79537748]\n",
      "415.1424603475971 [ 0.89984493 -0.98076323  0.11065138 -0.62358731]\n",
      "413.0735965744825 [ 0.89529677 -0.99786753  0.11593928 -0.61483971]\n",
      "405.1502271871741 [ 0.88505984 -1.14083072  0.16530048 -0.58889489]\n",
      "401.873590993594 [ 0.8978786  -1.19748875  0.18851423 -0.60956615]\n",
      "398.36641526509993 [ 0.91930106 -1.3339613   0.24301603 -0.64231311]\n",
      "396.62302371025726 [ 0.93427502 -1.43480335  0.29308715 -0.68071958]\n",
      "395.94692393647983 [ 0.94366241 -1.519452    0.33205211 -0.70320677]\n",
      "395.134599429015 [ 0.96080123 -1.63067165  0.38808767 -0.7474449 ]\n",
      "394.43497860975094 [ 0.97525054 -1.72352881  0.44334171 -0.79517248]\n",
      "394.10885383235836 [ 0.99011525 -1.82627089  0.49901245 -0.83913412]\n",
      "393.91572274009195 [ 1.00335397 -1.91343711  0.54947693 -0.88155527]\n",
      "393.6054588042789 [ 1.01732878 -2.0007537   0.60418938 -0.93032861]\n",
      "393.52252291756577 [ 1.03898719 -2.13960218  0.68800544 -1.00300069]\n",
      "393.3836988655794 [ 1.0394869  -2.14015042  0.69074849 -1.00691023]\n",
      "393.28913125909276 [ 1.05333415 -2.22615188  0.74517824 -1.05570677]\n",
      "393.2380228580905 [ 1.06635313 -2.30646823  0.79637736 -1.10174912]\n",
      "393.1803075005564 [ 1.07910314 -2.38355043  0.84693831 -1.14802962]\n",
      "393.12534860465166 [ 1.09080986 -2.44794924  0.89211847 -1.18875665]\n",
      "393.0933799772947 [ 1.10292809 -2.51850398  0.93942075 -1.23149011]\n",
      "393.0830141070019 [ 1.11140963 -2.56679654  0.97237612 -1.26123531]\n",
      "393.0656543223158 [ 1.11837282 -2.60484552  0.99920442 -1.28540765]\n",
      "393.03745845762387 [ 1.13074914 -2.67086258  1.04663424 -1.32808927]\n",
      "393.02930545383333 [ 1.13916448 -2.71675089  1.07903132 -1.35727189]\n",
      "393.0170412744874 [ 1.15334232 -2.79207625  1.1333124  -1.40610804]\n",
      "393.00144025531426 [ 1.16118434 -2.83166739  1.16299968 -1.43275112]\n",
      "392.9957130751791 [ 1.16896401 -2.87217529  1.19264944 -1.45940006]\n",
      "392.991221536402 [ 1.1763738  -2.91032539  1.22081747 -1.48470303]\n",
      "392.983959369868 [ 1.18952403 -2.97705008  1.27063379 -1.52942106]\n",
      "392.97651563078944 [ 1.19691395 -3.0131586   1.29833941 -1.55424412]\n",
      "392.97291623583806 [ 1.2069417  -3.06333413  1.33617424 -1.58818254]\n",
      "392.9706557371519 [ 1.21838605 -3.11981311  1.37919129 -1.62674322]\n",
      "392.96580934904614 [ 1.2221863  -3.13756826  1.3932637  -1.63932389]\n",
      "392.9625423253756 [ 1.23561824 -3.20271653  1.44351    -1.68432646]\n",
      "392.9602003475484 [ 1.24273624 -3.23663716  1.47000442 -1.70803601]\n",
      "392.95785676862306 [ 1.2501293  -3.27116281  1.49736021 -1.73249282]\n",
      "392.9573029106532 [ 1.25223295 -3.2811642   1.50331672 -1.73949354]\n",
      "392.95569594499466 [ 1.26152706 -3.32523897  1.53912302 -1.77039685]\n",
      "392.954978271433 [ 1.27287309 -3.37900367  1.58585416 -1.80811095]\n",
      "392.9531574044049 [ 1.27282655 -3.37872137  1.58964126 -1.8079382 ]\n",
      "392.9531564024219 [ 1.27288752 -3.37900987  1.5898029  -1.80814076]\n",
      "392.9531529808446 [ 1.27302779 -3.37967349  1.59024002 -1.80860671]\n",
      "392.9524622225981 [ 1.27695606 -3.3982514   1.60943791 -1.82165867]\n",
      "392.95241829426686 [ 1.27711261 -3.39899191  1.60943791 -1.82217882]\n",
      "392.9524140331969 [ 1.27717024 -3.39924685  1.60943791 -1.82236762]\n",
      "392.95234048931434 [ 1.27810013 -3.40325641  1.60943791 -1.8253954 ]\n",
      "392.9521669524911 [ 1.28042603 -3.41323978  1.60943791 -1.83297149]\n",
      "392.95182000643763 [ 1.28670142 -3.44011476  1.60943791 -1.85341849]\n",
      "392.95148630533913 [ 1.28968937 -3.45285035  1.60943791 -1.86316469]\n",
      "392.95013866148474 [ 1.30603368 -3.52245607  1.60943791 -1.91654672]\n",
      "392.9495871582949 [ 1.31125094 -3.54461443  1.60943791 -1.93387885]\n",
      "392.9491243674602 [ 1.3134811  -3.55428612  1.60943791 -1.94120218]\n",
      "392.94842751127635 [ 1.32965811 -3.62313002  1.60943791 -1.99430023]\n",
      "392.94813043650083 [ 1.32772001 -3.61475744  1.60943791 -1.98793782]\n",
      "392.9474787463132 [ 1.33820812 -3.65911102  1.60943791 -2.02236056]\n",
      "392.9471777141116 [ 1.34494192 -3.68758917  1.60943791 -2.04445533]\n",
      "392.9469040463564 [ 1.35425724 -3.72686143  1.60943791 -2.07502033]\n",
      "392.9465256650219 [ 1.35698442 -3.7382327   1.60943791 -2.08396913]\n",
      "392.94604121376597 [ 1.36894613 -3.78841337  1.60943791 -2.12321848]\n",
      "392.9458821010976 [ 1.37568066 -3.81662057  1.60943791 -2.14532085]\n",
      "392.9454016785603 [ 1.38421355 -3.85219752  1.60943791 -2.17333539]\n",
      "392.9450803895479 [ 1.39201131 -3.88466619  1.60943791 -2.19893908]\n",
      "392.9450064827115 [ 1.39524421 -3.89801214  1.60943791 -2.20956495]\n",
      "392.94479286168826 [ 1.40078178 -3.92105148  1.60943791 -2.22775103]\n",
      "392.9445105624718 [ 1.41144932 -3.96542385  1.60943791 -2.26278372]\n",
      "392.94444257316263 [ 1.41265042 -3.97038497  1.60943791 -2.26673152]\n",
      "392.9443873493692 [ 1.41359148 -3.97421308  1.60943791 -2.2698295 ]\n",
      "392.9439343970653 [ 1.4322655  -4.05147693  1.60943791 -2.33119191]\n",
      "392.94392066370347 [ 1.43439466 -4.06027672  1.60943791 -2.33818923]\n",
      "392.94384547244226 [ 1.43492006 -4.062402    1.60943791 -2.33992086]\n",
      "392.94376249224933 [ 1.43990027 -4.08287265  1.60943791 -2.35629989]\n",
      "392.94360990826317 [ 1.44629594 -4.10921468  1.60943791 -2.37732806]\n",
      "392.94347154918523 [ 1.45521939 -4.14596328  1.60943769 -2.40666795]\n",
      "392.94346993407817 [ 1.4559025  -4.14877339  1.60943771 -2.40891436]\n",
      "392.9434049367146 [ 1.45884576 -4.1608499   1.60943791 -2.41859699]\n",
      "392.94330792046003 [ 1.46589843 -4.18978369  1.60943791 -2.44179981]\n",
      "392.9431652506082 [ 1.47078268 -4.20975348  1.60943791 -2.45787414]\n",
      "392.9431603085168 [ 1.47049913 -4.2085783   1.60943791 -2.45694243]\n",
      "392.9431521464958 [ 1.47127183 -4.21171752  1.60943791 -2.45948727]\n",
      "392.94313758251064 [ 1.47228403 -4.21585851  1.60943789 -2.46281811]\n",
      "392.94309718111526 [ 1.47440779 -4.22457426  1.60943791 -2.46981174]\n",
      "392.9430528656776 [ 1.47837495 -4.24083824  1.60943791 -2.48287556]\n",
      "392.94303705345646 [ 1.4810684  -4.25186869  1.60943791 -2.49174476]\n",
      "392.9430023598843 [ 1.48360461 -4.26223416  1.60943791 -2.50009618]\n",
      "392.94293032265705 [ 1.48602815 -4.27187066  1.60943791 -2.5078884 ]\n",
      "392.9427696912162 [ 1.50364887 -4.34276492  1.60943791 -2.56510188]\n",
      "392.9427318920325 [ 1.5072969  -4.35723617  1.60943791 -2.57680871]\n",
      "392.94261281754734 [ 1.5242508  -4.42305541  1.60943791 -2.63025405]\n",
      "392.94241952069297 [ 1.53209929 -4.45389255  1.6094379  -2.65524173]\n",
      "392.9424106793049 [ 1.53408495 -4.46165203  1.6094379  -2.66153526]\n",
      "392.9424043983063 [ 1.53443343 -4.46297224  1.60943791 -2.66261195]\n",
      "392.94240067849205 [ 1.53429376 -4.46236569  1.60943791 -2.66212851]\n",
      "392.94239868836576 [ 1.53457667 -4.46341633  1.60943791 -2.66298834]\n",
      "392.94239753397505 [ 1.53465651 -4.46374076  1.60943791 -2.66324969]\n",
      "392.9423953162395 [ 1.53491546 -4.4647545   1.6094379  -2.66407141]\n",
      "392.94239373986693 [ 1.53510127 -4.4654686   1.60943791 -2.66465207]\n",
      "392.94238397243134 [ 1.53644128 -4.47065784  1.60943791 -2.66886673]\n",
      "392.9422725230643 [ 1.55265558 -4.53269092  1.60943791 -2.7193731 ]\n",
      "392.9422563859471 [ 1.55266679 -4.53270573  1.60943791 -2.71940802]\n",
      "392.94225638538865 [ 1.55266699 -4.5327063   1.60943791 -2.71940865]\n"
     ]
    }
   ],
   "source": [
    "fun = deminf_data.Objective.from_name(\"1_Bot_4_Sim\", negate=True, type_of_transform=\"logarithm\")\n",
    "x0 = np.random.uniform(fun.lower_bound, fun.upper_bound) # bad estimation of point close to optimum\n",
    "x0 = [0 for _ in fun.lower_bound]\n",
    "bounds = list(zip(fun.lower_bound, fun.upper_bound))\n",
    "\n",
    "def callback(x):\n",
    "    y = fun(x)\n",
    "    print(y, x)\n",
    "\n",
    "import scipy\n",
    "result = scipy.optimize.minimize(fun, x0, method=\"L-BFGS-B\", bounds=bounds, callback=callback)"
   ]
  },
  {
   "cell_type": "markdown",
   "metadata": {},
   "source": [
    "And we could compare found parameters with best known values of this dataset. Note that best value of function is sometimes estimation of best value for some datasets and it is not guaranteed that values from optimization are always worse than known optimum."
   ]
  },
  {
   "cell_type": "code",
   "execution_count": 13,
   "metadata": {},
   "outputs": [
    {
     "name": "stdout",
     "output_type": "stream",
     "text": [
      "Best known value of our objective: 88.56032595987472\n",
      "Best known value of objective is optimum: True\n",
      "Parameters that corresponds to it: [-4.60517019  0.         -5.29831737 -2.99573227]\n",
      "Parameters corresponds indeed: True\n",
      "Founded parameters in optimizations are better than known values: False\n"
     ]
    }
   ],
   "source": [
    "# 1. Get object with all information about dataset\n",
    "data_set = deminf_data.DemInfData.from_name(\"1_Bot_4_Sim\")\n",
    "\n",
    "# 2. Get best known value of fitness function (log-likelihood). We should negate it (!!!)\n",
    "best_known_obj = - data_set.max_ll\n",
    "print(\"Best known value of our objective:\", best_known_obj)\n",
    "\n",
    "# We could ask data set if this is true optimum\n",
    "print(\"Best known value of objective is optimum:\", data_set.is_maximum_likelihood_exact())\n",
    "\n",
    "# 3. Get best parameters and transform them\n",
    "best_known_params = fun.transform(data_set.popt)\n",
    "print(\"Parameters that corresponds to it:\", best_known_params)\n",
    "\n",
    "# We could check that this parameters corresponds to the best value of objective\n",
    "print(\"Parameters corresponds indeed:\", np.isclose(best_known_obj, fun(best_known_params)))\n",
    "\n",
    "# 4. Compare best known value of objective with those from optimization\n",
    "print(\"Founded parameters in optimizations are better than known values:\", fun(result.x) < best_known_obj)"
   ]
  },
  {
   "cell_type": "code",
   "execution_count": null,
   "metadata": {},
   "outputs": [],
   "source": []
  }
 ],
 "metadata": {
  "kernelspec": {
   "display_name": "Python 3",
   "language": "python",
   "name": "python3"
  },
  "language_info": {
   "codemirror_mode": {
    "name": "ipython",
    "version": 3
   },
   "file_extension": ".py",
   "mimetype": "text/x-python",
   "name": "python",
   "nbconvert_exporter": "python",
   "pygments_lexer": "ipython3",
   "version": "3.6.9"
  }
 },
 "nbformat": 4,
 "nbformat_minor": 4
}
